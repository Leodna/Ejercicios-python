{
 "cells": [
  {
   "cell_type": "code",
   "execution_count": 1,
   "metadata": {},
   "outputs": [
    {
     "name": "stdout",
     "output_type": "stream",
     "text": [
      "asdfaskdf\n"
     ]
    }
   ],
   "source": [
    "print (\"asdfaskdf\")"
   ]
  },
  {
   "cell_type": "markdown",
   "metadata": {},
   "source": [
    "## Ejercicio 1:\n",
    "\n"
   ]
  },
  {
   "cell_type": "code",
   "execution_count": 10,
   "metadata": {},
   "outputs": [
    {
     "name": "stdout",
     "output_type": "stream",
     "text": [
      "El cociente de 5 / 30 es 0 y el resto es 5\n"
     ]
    }
   ],
   "source": [
    "n = int(input(\"Introduce un numero entero\"))\n",
    "m = int(input(\"Introduce otro numero entero\"))\n",
    "c = n//m\n",
    "r = n%m\n",
    "print (\"El cociente de {} / {} es {} y el resto es {}\".format(n,m,c,r))\n"
   ]
  },
  {
   "cell_type": "markdown",
   "metadata": {},
   "source": [
    "## Ejercicio 2"
   ]
  },
  {
   "cell_type": "code",
   "execution_count": 14,
   "metadata": {},
   "outputs": [
    {
     "name": "stdout",
     "output_type": "stream",
     "text": [
      "El indice de masa corporal es: 22.82\n"
     ]
    }
   ],
   "source": [
    "p = float(input(\"Introduzca su peso en KG\"))\n",
    "k = float(input(\"Introduzca su altura en m\"))\n",
    "\n",
    "imc = round(p/(k**2),2)\n",
    "print (\"El indice de masa corporal es: {}\".format(imc))"
   ]
  },
  {
   "cell_type": "markdown",
   "metadata": {},
   "source": [
    "## Ejercicio 3"
   ]
  },
  {
   "cell_type": "code",
   "execution_count": 19,
   "metadata": {},
   "outputs": [
    {
     "name": "stdout",
     "output_type": "stream",
     "text": [
      "LEO tiene 3 letras\n"
     ]
    }
   ],
   "source": [
    "nombre = input(\"Introduzca su nombre\")\n",
    "n = len(nombre)\n",
    "print (\"{} tiene {} letras\".format(nombre.upper(),n ))\n"
   ]
  },
  {
   "cell_type": "code",
   "execution_count": 24,
   "metadata": {},
   "outputs": [
    {
     "name": "stdout",
     "output_type": "stream",
     "text": [
      "En Algun lugAr de un grAn pAis, olvidAron construir a\n"
     ]
    }
   ],
   "source": [
    "frase = input(\"Ingrese una frase\")\n",
    "vocal = input(\"Ingrese una vocal\").lower()[0]\n",
    "frase2 = ''\n",
    "for c in frase:\n",
    "    if c == vocal:\n",
    "        c = c.upper()\n",
    "    frase2 += c    \n",
    "print ('{} {}'.format(frase2,vocal))"
   ]
  },
  {
   "cell_type": "code",
   "execution_count": 27,
   "metadata": {},
   "outputs": [
    {
     "name": "stdout",
     "output_type": "stream",
     "text": [
      "en Algun lugAr de un grAn piAs, olvidAron construir a\n"
     ]
    }
   ],
   "source": [
    "frase = input(\"Ingrese una frase\")\n",
    "vocal = input(\"Ingrese una vocal\").lower()[0]\n",
    "frase2 = frase.replace(vocal,vocal.upper())\n",
    "print ('{} {}'.format(frase2,vocal))"
   ]
  },
  {
   "cell_type": "code",
   "execution_count": 36,
   "metadata": {},
   "outputs": [
    {
     "name": "stdout",
     "output_type": "stream",
     "text": [
      "El nivel de rendimiento es Meritorio y su bono es 2400.0\n"
     ]
    }
   ],
   "source": [
    "factor = 2400\n",
    "\n",
    "puntuacion = float(input(\"Cual es la puntuaion del usuario\"))\n",
    "while not (puntuacion == 0.0 or puntuacion == 0.4 or puntuacion >=0.6):\n",
    "    print ('puntuacion no valida')\n",
    "    puntuacion = float(input(\"Cual es la puntuaion del usuario\"))\n",
    "\n",
    "if puntuacion == 0.0:\n",
    "    nivel = 'Inaceptable'\n",
    "elif puntuacion == 0.4:\n",
    "    nivel = 'Aceptable'\n",
    "else:\n",
    "    nivel = 'Meritorio'\n",
    "\n",
    "print ('El nivel de rendimiento es {} y su bono es {}'.format(nivel,(factor*puntuacion)))\n"
   ]
  },
  {
   "cell_type": "code",
   "execution_count": 32,
   "metadata": {},
   "outputs": [
    {
     "name": "stdout",
     "output_type": "stream",
     "text": [
      "Por 3.0 kg de Plátano son $4.05\n"
     ]
    }
   ],
   "source": [
    "frutas = {'Plátano':1.35, 'Manzana':0.8, 'Pera':0.85,'Naranja':0.70}\n",
    "fruta = input(\"Ingrese una fruta\")\n",
    "if fruta not in (frutas):\n",
    "    print (\"{} no esta registrada\".format(fruta))\n",
    "else:    \n",
    "    peso = float(input(('Cuantos kg quiere')))\n",
    "    precio = round(frutas[fruta] * peso,2)\n",
    "    print ('Por {} kg de {} son ${}'.format(peso,fruta,precio))"
   ]
  },
  {
   "cell_type": "code",
   "execution_count": 34,
   "metadata": {},
   "outputs": [
    {
     "name": "stdout",
     "output_type": "stream",
     "text": [
      "El precio más alto es 80 y el más bajo es 8\n"
     ]
    }
   ],
   "source": [
    "precios = [50,75,46,22,80,65,8]\n",
    "print ('El precio más alto es {} y el más bajo es {}'.format(max(precios),min(precios)))"
   ]
  },
  {
   "cell_type": "code",
   "execution_count": 9,
   "metadata": {},
   "outputs": [],
   "source": [
    "asignaturas = ['matematicas','fisica','quimica','historia','lenguas']\n",
    "notas = {}\n",
    "for asignatura in asignaturas :\n",
    "    nota = float(input('Cual es su calificacion en {}'.format(asignatura)))\n",
    "    notas.update({asignatura:nota})\n"
   ]
  },
  {
   "cell_type": "code",
   "execution_count": 18,
   "metadata": {},
   "outputs": [
    {
     "name": "stdout",
     "output_type": "stream",
     "text": [
      "Tus notas son las siguientes: \n",
      "En matematicas has sacado 10.0\n",
      "En fisica has sacado 8.0\n",
      "En quimica has sacado 9.0\n",
      "En historia has sacado 10.0\n",
      "En lenguas has sacado 10.0\n"
     ]
    }
   ],
   "source": [
    "print ('Tus notas son las siguientes: ')\n",
    "for nota in notas:\n",
    "    print ('En {} has sacado {}'.format(nota,notas[nota]))"
   ]
  },
  {
   "cell_type": "code",
   "execution_count": 61,
   "metadata": {},
   "outputs": [],
   "source": [
    "def mcd (x,y):\n",
    "    \n",
    "    return 0\n",
    "\n",
    "def mcm (x,y):    \n",
    "    n = 1\n",
    "    while  not  (n%x== 0 and n%y ==0):        \n",
    "        print (n)            \n",
    "        n += 1\n",
    "    return n"
   ]
  },
  {
   "cell_type": "code",
   "execution_count": 64,
   "metadata": {},
   "outputs": [
    {
     "name": "stdout",
     "output_type": "stream",
     "text": [
      "1\n",
      "2\n",
      "3\n",
      "4\n",
      "5\n",
      "6\n",
      "7\n",
      "8\n",
      "9\n",
      "10\n",
      "11\n",
      "12\n",
      "13\n",
      "14\n",
      "15\n",
      "16\n",
      "17\n",
      "18\n",
      "19\n",
      "20\n",
      "21\n",
      "22\n",
      "23\n",
      "24\n",
      "25\n",
      "26\n",
      "27\n",
      "28\n",
      "29\n",
      "30\n",
      "31\n",
      "32\n",
      "33\n",
      "34\n",
      "35\n",
      "36\n",
      "37\n",
      "38\n",
      "39\n",
      "40\n",
      "41\n",
      "42\n",
      "43\n",
      "44\n",
      "45\n",
      "46\n",
      "47\n",
      "48\n",
      "49\n",
      "50\n",
      "51\n",
      "52\n",
      "53\n",
      "54\n",
      "55\n",
      "56\n",
      "57\n",
      "58\n",
      "59\n",
      "60\n",
      "61\n",
      "62\n",
      "63\n",
      "64\n",
      "65\n",
      "66\n",
      "67\n",
      "68\n",
      "69\n",
      "70\n",
      "71\n",
      "72\n",
      "73\n",
      "74\n",
      "75\n",
      "76\n",
      "77\n",
      "78\n",
      "79\n",
      "80\n",
      "81\n",
      "82\n",
      "83\n",
      "84\n",
      "85\n",
      "86\n",
      "87\n",
      "88\n",
      "89\n",
      "90\n",
      "91\n",
      "92\n",
      "93\n",
      "94\n",
      "95\n",
      "96\n",
      "97\n",
      "98\n",
      "99\n",
      "100\n",
      "101\n",
      "102\n",
      "103\n",
      "104\n",
      "105\n",
      "106\n",
      "107\n",
      "108\n",
      "109\n",
      "110\n",
      "111\n",
      "112\n",
      "113\n",
      "114\n",
      "115\n",
      "116\n",
      "117\n",
      "118\n",
      "119\n",
      "120\n",
      "121\n",
      "122\n",
      "123\n",
      "124\n",
      "125\n",
      "126\n",
      "127\n",
      "128\n",
      "129\n",
      "130\n",
      "131\n",
      "132\n",
      "133\n",
      "134\n",
      "135\n",
      "136\n",
      "137\n",
      "138\n",
      "139\n",
      "140\n",
      "141\n",
      "142\n",
      "143\n",
      "144\n",
      "145\n",
      "146\n",
      "147\n",
      "148\n",
      "149\n",
      "150\n",
      "151\n",
      "152\n",
      "153\n",
      "154\n",
      "155\n",
      "156\n",
      "157\n",
      "158\n",
      "159\n",
      "160\n",
      "161\n",
      "162\n",
      "163\n",
      "164\n",
      "165\n",
      "166\n",
      "167\n",
      "168\n",
      "169\n",
      "170\n",
      "171\n",
      "172\n",
      "173\n",
      "174\n",
      "175\n",
      "176\n",
      "177\n",
      "178\n",
      "179\n"
     ]
    },
    {
     "data": {
      "text/plain": [
       "180"
      ]
     },
     "execution_count": 64,
     "metadata": {},
     "output_type": "execute_result"
    }
   ],
   "source": [
    "mcm(60,90)"
   ]
  }
 ],
 "metadata": {
  "kernelspec": {
   "display_name": "base",
   "language": "python",
   "name": "python3"
  },
  "language_info": {
   "codemirror_mode": {
    "name": "ipython",
    "version": 3
   },
   "file_extension": ".py",
   "mimetype": "text/x-python",
   "name": "python",
   "nbconvert_exporter": "python",
   "pygments_lexer": "ipython3",
   "version": "3.10.1"
  },
  "orig_nbformat": 4
 },
 "nbformat": 4,
 "nbformat_minor": 2
}
