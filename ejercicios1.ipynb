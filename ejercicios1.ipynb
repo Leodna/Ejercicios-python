{
 "cells": [
  {
   "cell_type": "code",
   "execution_count": 1,
   "metadata": {},
   "outputs": [
    {
     "name": "stdout",
     "output_type": "stream",
     "text": [
      "asdfaskdf\n"
     ]
    }
   ],
   "source": [
    "print (\"asdfaskdf\")"
   ]
  },
  {
   "cell_type": "markdown",
   "metadata": {},
   "source": [
    "## Ejercicio 1:\n",
    "\n"
   ]
  },
  {
   "cell_type": "code",
   "execution_count": 10,
   "metadata": {},
   "outputs": [
    {
     "name": "stdout",
     "output_type": "stream",
     "text": [
      "El cociente de 5 / 30 es 0 y el resto es 5\n"
     ]
    }
   ],
   "source": [
    "n = int(input(\"Introduce un numero entero\"))\n",
    "m = int(input(\"Introduce otro numero entero\"))\n",
    "c = n//m\n",
    "r = n%m\n",
    "print (\"El cociente de {} / {} es {} y el resto es {}\".format(n,m,c,r))\n"
   ]
  },
  {
   "cell_type": "markdown",
   "metadata": {},
   "source": [
    "## Ejercicio 2"
   ]
  },
  {
   "cell_type": "code",
   "execution_count": 14,
   "metadata": {},
   "outputs": [
    {
     "name": "stdout",
     "output_type": "stream",
     "text": [
      "El indice de masa corporal es: 22.82\n"
     ]
    }
   ],
   "source": [
    "p = float(input(\"Introduzca su peso en KG\"))\n",
    "k = float(input(\"Introduzca su altura en m\"))\n",
    "\n",
    "imc = round(p/(k**2),2)\n",
    "print (\"El indice de masa corporal es: {}\".format(imc))"
   ]
  },
  {
   "cell_type": "markdown",
   "metadata": {},
   "source": [
    "## Ejercicio 3"
   ]
  },
  {
   "cell_type": "code",
   "execution_count": 19,
   "metadata": {},
   "outputs": [
    {
     "name": "stdout",
     "output_type": "stream",
     "text": [
      "LEO tiene 3 letras\n"
     ]
    }
   ],
   "source": [
    "nombre = input(\"Introduzca su nombre\")\n",
    "n = len(nombre)\n",
    "print (\"{} tiene {} letras\".format(nombre.upper(),n ))\n"
   ]
  },
  {
   "cell_type": "code",
   "execution_count": 24,
   "metadata": {},
   "outputs": [
    {
     "name": "stdout",
     "output_type": "stream",
     "text": [
      "En Algun lugAr de un grAn pAis, olvidAron construir a\n"
     ]
    }
   ],
   "source": [
    "frase = input(\"Ingrese una frase\")\n",
    "vocal = input(\"Ingrese una vocal\").lower()[0]\n",
    "frase2 = ''\n",
    "for c in frase:\n",
    "    if c == vocal:\n",
    "        c = c.upper()\n",
    "    frase2 += c    \n",
    "print ('{} {}'.format(frase2,vocal))"
   ]
  },
  {
   "cell_type": "code",
   "execution_count": 27,
   "metadata": {},
   "outputs": [
    {
     "name": "stdout",
     "output_type": "stream",
     "text": [
      "en Algun lugAr de un grAn piAs, olvidAron construir a\n"
     ]
    }
   ],
   "source": [
    "frase = input(\"Ingrese una frase\")\n",
    "vocal = input(\"Ingrese una vocal\").lower()[0]\n",
    "frase2 = frase.replace(vocal,vocal.upper())\n",
    "print ('{} {}'.format(frase2,vocal))"
   ]
  },
  {
   "cell_type": "code",
   "execution_count": 36,
   "metadata": {},
   "outputs": [
    {
     "name": "stdout",
     "output_type": "stream",
     "text": [
      "El nivel de rendimiento es Meritorio y su bono es 2400.0\n"
     ]
    }
   ],
   "source": [
    "factor = 2400\n",
    "\n",
    "puntuacion = float(input(\"Cual es la puntuaion del usuario\"))\n",
    "while not (puntuacion == 0.0 or puntuacion == 0.4 or puntuacion >=0.6):\n",
    "    print ('puntuacion no valida')\n",
    "    puntuacion = float(input(\"Cual es la puntuaion del usuario\"))\n",
    "\n",
    "if puntuacion == 0.0:\n",
    "    nivel = 'Inaceptable'\n",
    "elif puntuacion == 0.4:\n",
    "    nivel = 'Aceptable'\n",
    "else:\n",
    "    nivel = 'Meritorio'\n",
    "\n",
    "print ('El nivel de rendimiento es {} y su bono es {}'.format(nivel,(factor*puntuacion)))\n"
   ]
  },
  {
   "cell_type": "code",
   "execution_count": 32,
   "metadata": {},
   "outputs": [
    {
     "name": "stdout",
     "output_type": "stream",
     "text": [
      "Por 3.0 kg de Plátano son $4.05\n"
     ]
    }
   ],
   "source": [
    "frutas = {'Plátano':1.35, 'Manzana':0.8, 'Pera':0.85,'Naranja':0.70}\n",
    "fruta = input(\"Ingrese una fruta\")\n",
    "if fruta not in (frutas):\n",
    "    print (\"{} no esta registrada\".format(fruta))\n",
    "else:    \n",
    "    peso = float(input(('Cuantos kg quiere')))\n",
    "    precio = round(frutas[fruta] * peso,2)\n",
    "    print ('Por {} kg de {} son ${}'.format(peso,fruta,precio))"
   ]
  },
  {
   "cell_type": "code",
   "execution_count": 34,
   "metadata": {},
   "outputs": [
    {
     "name": "stdout",
     "output_type": "stream",
     "text": [
      "El precio más alto es 80 y el más bajo es 8\n"
     ]
    }
   ],
   "source": [
    "precios = [50,75,46,22,80,65,8]\n",
    "print ('El precio más alto es {} y el más bajo es {}'.format(max(precios),min(precios)))"
   ]
  },
  {
   "cell_type": "code",
   "execution_count": 9,
   "metadata": {},
   "outputs": [],
   "source": [
    "asignaturas = ['matematicas','fisica','quimica','historia','lenguas']\n",
    "notas = {}\n",
    "for asignatura in asignaturas :\n",
    "    nota = float(input('Cual es su calificacion en {}'.format(asignatura)))\n",
    "    notas.update({asignatura:nota})\n"
   ]
  },
  {
   "cell_type": "code",
   "execution_count": 18,
   "metadata": {},
   "outputs": [
    {
     "name": "stdout",
     "output_type": "stream",
     "text": [
      "Tus notas son las siguientes: \n",
      "En matematicas has sacado 10.0\n",
      "En fisica has sacado 8.0\n",
      "En quimica has sacado 9.0\n",
      "En historia has sacado 10.0\n",
      "En lenguas has sacado 10.0\n"
     ]
    }
   ],
   "source": [
    "print ('Tus notas son las siguientes: ')\n",
    "for nota in notas:\n",
    "    print ('En {} has sacado {}'.format(nota,notas[nota]))"
   ]
  },
  {
   "cell_type": "code",
   "execution_count": 13,
   "metadata": {},
   "outputs": [],
   "source": [
    "def mcd (a, b):\n",
    "    temporal = 0\n",
    "    while b != 0:        \n",
    "        temporal = b\n",
    "        b = a % b\n",
    "        a = temporal\n",
    "    return a\n",
    "\n",
    "def mcm (x,y):\n",
    "    n = 1\n",
    "    while  not  (n%x== 0 and n%y ==0):                           \n",
    "        n += 1\n",
    "    return n"
   ]
  },
  {
   "cell_type": "code",
   "execution_count": 14,
   "metadata": {},
   "outputs": [
    {
     "name": "stdout",
     "output_type": "stream",
     "text": [
      "El mcm 42\n",
      "temporal  24\n",
      "b  12\n",
      "a 24\n",
      "temporal  12\n",
      "b  0\n",
      "a 12\n",
      "El mcd 12\n"
     ]
    }
   ],
   "source": [
    "print ('El mcm {}'.format(mcm(6,21)))\n",
    "print ('El mcd {}'.format(mcd(12,24)))"
   ]
  }
 ],
 "metadata": {
  "kernelspec": {
   "display_name": "base",
   "language": "python",
   "name": "python3"
  },
  "language_info": {
   "codemirror_mode": {
    "name": "ipython",
    "version": 3
   },
   "file_extension": ".py",
   "mimetype": "text/x-python",
   "name": "python",
   "nbconvert_exporter": "python",
   "pygments_lexer": "ipython3",
   "version": "3.11.3"
  },
  "orig_nbformat": 4
 },
 "nbformat": 4,
 "nbformat_minor": 2
}
